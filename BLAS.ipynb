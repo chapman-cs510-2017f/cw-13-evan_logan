{
 "cells": [
  {
   "cell_type": "markdown",
   "metadata": {
    "collapsed": false
   },
   "source": [
    "# Boost_Matrix Analysis, BLAS #"
   ]
  },
  {
   "cell_type": "markdown",
   "metadata": {
    "collapsed": false
   },
   "source": [
    "## Explanation of code in Detail ##"
   ]
  },
  {
   "cell_type": "markdown",
   "metadata": {
    "collapsed": false
   },
   "source": [
    "```C++\n",
    " using std::cout; \n",
    " using std::endl;\n",
    "```"
   ]
  },
  {
   "cell_type": "markdown",
   "metadata": {
    "collapsed": false
   },
   "source": [
    "The above code tells us that when referencing cout and endl, we do not need to use std:: to reference it. for example, we can\n",
    "```C++\n",
    " cout << \"output txt\" << endl;\n",
    "```\n",
    "instead of\n",
    "```C++\n",
    " std::cout << \"output txt\" << std::endl;\n",
    "```"
   ]
  },
  {
   "cell_type": "markdown",
   "metadata": {
    "collapsed": false
   },
   "source": [
    "Consider the following line\n",
    "```C++\n",
    "matrix<std::complex<long double> > m(3, 3), n(3, 3), o(3, 3);\n",
    "```\n",
    "the above code declares 3 matrices of size 3x3 with complex values that are long doubles."
   ]
  },
  {
   "cell_type": "markdown",
   "metadata": {
    "collapsed": false
   },
   "source": [
    "```C++\n",
    " n(r,c) = r + c * std::complex<long double>(0,1);\n",
    "```\n",
    "i.e. : n(r,c) = r + ci. std::complex<long double>(0,1) delcares a complex number with 0 real part and 1 imaginary part, which is just $i$ by itself."
   ]
  },
  {
   "cell_type": "markdown",
   "metadata": {
    "collapsed": false
   },
   "source": [
    "The following line,\n",
    "```C++\n",
    "o(r,c) = std::pow(n(r,c), 2)\n",
    "```\n",
    "is similar, conceptually, to\n",
    "```C++\n",
    "o(r,c) = (r+ci)^2\n",
    "```"
   ]
  },
  {
   "cell_type": "markdown",
   "metadata": {
    "collapsed": false
   },
   "source": [
    "The last bit of code that needs explanation is the use of prod(m,n).\n",
    "```C++\n",
    "cout << prod(m, n) << endl;\n",
    "```\n",
    "prod() is defined in uBLAS library, and returns the product of the input m, n"
   ]
  },
  {
   "cell_type": "markdown",
   "metadata": {
    "collapsed": false
   },
   "source": [
    "## Additional Q&A ##"
   ]
  },
  {
   "cell_type": "markdown",
   "metadata": {
    "collapsed": false
   },
   "source": [
    "Q:Are BLAS matrices row-major or column-major? How can you tell based on how the code is written?"
   ]
  },
  {
   "cell_type": "markdown",
   "metadata": {
    "collapsed": false
   },
   "source": [
    "A: BLAS are row-major since in the code, m(r,c) references row first, and the nested for loop starts with a row and iterates through every column, this also indicated that they may be row-major"
   ]
  },
  {
   "cell_type": "code",
   "execution_count": 0,
   "metadata": {
    "collapsed": false
   },
   "outputs": [
   ],
   "source": [
   ]
  }
 ],
 "metadata": {
  "kernelspec": {
   "display_name": "Python 3 (Anaconda)",
   "language": "python",
   "name": "anaconda3"
  },
  "language_info": {
   "codemirror_mode": {
    "name": "ipython",
    "version": 3
   },
   "file_extension": ".py",
   "mimetype": "text/x-python",
   "name": "python",
   "nbconvert_exporter": "python",
   "pygments_lexer": "ipython3",
   "version": "3.5.4"
  }
 },
 "nbformat": 4,
 "nbformat_minor": 0
}