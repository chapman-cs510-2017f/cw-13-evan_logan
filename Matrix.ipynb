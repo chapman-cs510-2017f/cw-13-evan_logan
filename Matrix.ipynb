{
 "cells": [
  {
   "cell_type": "markdown",
   "metadata": {
    "collapsed": false
   },
   "source": [
    "# Matrix Analysis, BLAS #"
   ]
  },
  {
   "cell_type": "markdown",
   "metadata": {
    "collapsed": false
   },
   "source": [
    "## Contents of the Code ##\n",
    "The code has no main function, and thus is a series of tools useful for the construction and use of a matrix class populated by a generic, unspecified type called \"T\". A matrix instance contains three fundamental components: the number of rows, `rows`, the number of columns, `cols`, and a two-dimensional vector containing data of type `T`, `mat`.\n",
    "\n",
    "* **Constructors:** There are two different possible implementations, depending on the signature provided.\n",
    "    1. The user may provide unsigned ints specifiying the number of rows and columns, as well as the adress to the data type `T` called `_initial`.The constructor sets the matrix to the correct number of rows and columns using the `resize` method, and populates each element within the matrix with the value of `_initial`.\n",
    "    1. The user may provide a `Matrix<T>` type as the sole argument, in which case that instance is essentially cloned by the constructor. The copy is shallow, so effectively no additional memory is used for this process.\n",
    "\n",
    "\n",
    "* **A Destructor:** No nontraditional actions are performed here, although they could be added at a later time. The destructor is defined but left empty, allowing standard memory-cleaning functions of c++ to be applied.\n",
    "\n",
    "\n",
    "* **An Assignment Function:** We implement this by overloading the `=` operator for `Matrix<T>` types. This is the way to produce a \"deep\" copy of the matrix that uses additional memory. To avoid unnecessary memory storage, the method first checks to see if the pointers of the LHS and RHS are equal (i.e. the matrix is being assigned to itself), and returns the same object. Otherwise, we resize the LHS matrix and assign each element individually and manually from the RHS matrix into `LHS.mat`.\n",
    "\n",
    "\n",
    "* **Data Accessors:** Two nearly-identical accessors are produced by means of a syntactically delicious method: overloading the `()` operator, such that `matrix(row,col)` works identically to calling `matrix.mat[row][col]`. The accessors differ only in the use of `const` to allow for read-only usage when needed.\n",
    "\n",
    "\n",
    "* **Row/Column Accessors:** Very straightforward getters of these private attributes.\n",
    "\n",
    "* **An Addition Overload:** A simple overloading of the addition operator for two matrices having the behaviour we would expect from such an operation. An entirely new matrix is created for this purpose and populated with values of $0.0$ that we attempt to coerce into the `T` type. Because of this, addition will not work for matrix classes with nonconventional data types where $0.0$ may not make logical sense, such as matrices themselves containing vectors or matrices."
   ]
  },
  {
   "cell_type": "markdown",
   "metadata": {
    "collapsed": false
   },
   "source": [
    "## Templates in C++ ##\n",
    "\n",
    "A template in C++ is effectively a way to define a class or similar structure that works for a variety of data types. Rather than creating distinct matrix classes intended to be populated with ints, or long doubles, or complex long doubles, we can define a single matrix class prespecified with a `template<typename T>` tag which accepts an unspecified, generic `T` type that is later replaced upon implementation. This process is similar in nature to overloading for functions and operators."
   ]
  },
  {
   "cell_type": "markdown",
   "metadata": {
    "collapsed": false
   },
   "source": [
    "## Operator Overloading in C++ ##\n",
    "Operator overloading is essentially identical to function overloading, allowing us to rewrite the definition of various operators in C++ based on the signature read by the compiler. Almost every operator in standard usage can be overloaded. Our matrix class overloaded the following operators:\n",
    "\n",
    "* Equals, ( = ): Allows deep copies of a matrix instance to be assigned."
   ]
  }
 ],
 "metadata": {
  "kernelspec": {
   "display_name": "Bash (Linux)",
   "language": "bash",
   "name": "bash"
  },
  "language_info": {
   "codemirror_mode": "shell",
   "file_extension": ".sh",
   "mimetype": "text/x-sh",
   "name": "bash"
  }
 },
 "nbformat": 4,
 "nbformat_minor": 0
}